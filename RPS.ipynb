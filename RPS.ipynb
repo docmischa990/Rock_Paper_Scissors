{
 "cells": [
  {
   "cell_type": "code",
   "execution_count": 65,
   "id": "e4db3f1d-44af-4561-b689-d670a100bf66",
   "metadata": {},
   "outputs": [
    {
     "name": "stdin",
     "output_type": "stream",
     "text": [
      "Rock, Paper, or scissors? (r/p/s):  r\n"
     ]
    },
    {
     "name": "stdout",
     "output_type": "stream",
     "text": [
      "You chose 🪨\n",
      "Computer chose ✂️\n",
      "You Win!\n"
     ]
    },
    {
     "name": "stdin",
     "output_type": "stream",
     "text": [
      "Continue? (y/n):  s\n",
      "Rock, Paper, or scissors? (r/p/s):  s\n"
     ]
    },
    {
     "name": "stdout",
     "output_type": "stream",
     "text": [
      "You chose ✂️\n",
      "Computer chose ✂️\n",
      "Tie!\n"
     ]
    },
    {
     "name": "stdin",
     "output_type": "stream",
     "text": [
      "Continue? (y/n):  y\n",
      "Rock, Paper, or scissors? (r/p/s):  p\n"
     ]
    },
    {
     "name": "stdout",
     "output_type": "stream",
     "text": [
      "You chose 📜\n",
      "Computer chose ✂️\n",
      "You Lose!!!!!\n"
     ]
    },
    {
     "name": "stdin",
     "output_type": "stream",
     "text": [
      "Continue? (y/n):  kmi\n",
      "Rock, Paper, or scissors? (r/p/s):  iin\n"
     ]
    },
    {
     "name": "stdout",
     "output_type": "stream",
     "text": [
      "Invalid choice!\n"
     ]
    },
    {
     "name": "stdin",
     "output_type": "stream",
     "text": [
      "Rock, Paper, or scissors? (r/p/s):  p\n"
     ]
    },
    {
     "name": "stdout",
     "output_type": "stream",
     "text": [
      "You chose 📜\n",
      "Computer chose 🪨\n",
      "You Win!\n"
     ]
    },
    {
     "name": "stdin",
     "output_type": "stream",
     "text": [
      "Continue? (y/n):  n\n"
     ]
    },
    {
     "name": "stdout",
     "output_type": "stream",
     "text": [
      "Have a lovely day!\n"
     ]
    }
   ],
   "source": [
    "# Ask the user to make a choice\n",
    "\n",
    "# If choise is invalid \n",
    "#    Print an error\n",
    "# longer method of doing the above statement:-\n",
    "## if user_choice != 'r' and user_choice != 'p' and user_choice != 's':\n",
    "### print ('Invalid choice')\n",
    "\n",
    "# Let the computer make a choice\n",
    "\n",
    "# Print choices (emojis)\n",
    "# longer method of doing the above statement:-\n",
    "##if user_choice == 'r':\n",
    "###    print('🪨')\n",
    "####elif user_choice == 's':\n",
    "#####    print('✂️')\n",
    "######elif user_choice == 'p':\n",
    "#######    print('📜')\n",
    "\n",
    "# Determine the winner\n",
    "# Ask the user if the want to play again\n",
    "# If not\n",
    "#    Terminate program\n",
    "\n",
    "import random\n",
    "\n",
    "emojis = {'r': '🪨', 's': '✂️', 'p': '📜'}\n",
    "choices = ('r', 'p', 's')\n",
    "\n",
    "def get_user_choice():\n",
    "   while True: \n",
    "     user_choice = input('Rock, Paper, or scissors? (r/p/s): ').lower()\n",
    "     if user_choice in choices:\n",
    "         return user_choice\n",
    "            \n",
    "     else:\n",
    "         print('Invalid choice!')\n",
    "\n",
    "def display_choices(user_choice, computer_choice):\n",
    "    print(f'You chose {emojis[user_choice]}')\n",
    "    print(f'Computer chose {emojis[computer_choice]}')\n",
    "\n",
    "def determine_winner(user_choice, computer_choice):\n",
    "    if user_choice == computer_choice:\n",
    "        print('Tie!')\n",
    "    elif (\n",
    "        (user_choice == 'r' and computer_choice == 's') or \n",
    "        (user_choice == 's' and computer_choice == 'p') or \n",
    "        (user_choice == 'p' and computer_choice == 'r')):\n",
    "        print('You Win!')\n",
    "    else:\n",
    "        print('You Lose!!!!!')\n",
    "\n",
    "\n",
    "def play_game():\n",
    "    while True:\n",
    "        user_choice = get_user_choice()  \n",
    "                \n",
    "        computer_choice = random.choice(choices)\n",
    "        \n",
    "        display_choices(user_choice, computer_choice)\n",
    "        \n",
    "        determine_winner(user_choice, computer_choice)\n",
    "        will_continue = input('Continue? (y/n): ').lower()\n",
    "        if will_continue == 'n':\n",
    "            print('Have a lovely day!')\n",
    "            break\n",
    "\n",
    "play_game()"
   ]
  },
  {
   "cell_type": "code",
   "execution_count": null,
   "id": "51fb1a52-fee2-4b23-ab64-c92ec109cf7a",
   "metadata": {},
   "outputs": [],
   "source": []
  }
 ],
 "metadata": {
  "kernelspec": {
   "display_name": "Python 3 (ipykernel)",
   "language": "python",
   "name": "python3"
  },
  "language_info": {
   "codemirror_mode": {
    "name": "ipython",
    "version": 3
   },
   "file_extension": ".py",
   "mimetype": "text/x-python",
   "name": "python",
   "nbconvert_exporter": "python",
   "pygments_lexer": "ipython3",
   "version": "3.12.4"
  }
 },
 "nbformat": 4,
 "nbformat_minor": 5
}
